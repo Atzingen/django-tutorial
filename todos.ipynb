{
 "cells": [
  {
   "cell_type": "markdown",
   "metadata": {},
   "source": [
    "# Sprint - IoT Backend com Django\n",
    "\n",
    "* Ambiente e istalação\n",
    "* Ferramentas de trabalho (vscode, terminal, extensões)\n",
    "* Referências\n",
    "* Criando uma aplicação Django (hello world)\n",
    "* Models (Bando de dados relacional, ORM e SQLAlchemy)\n",
    "* Views\n",
    "* Jinja2\n",
    "* Painel Admin\n",
    "* GET/POST\n",
    "* Frontend basico\n",
    "* Formulários\n",
    "* Rotas Protegidas\n",
    "* RESTful API\n",
    "* Swagger\n",
    "* Deploy VM, Docker, SSL"
   ]
  },
  {
   "cell_type": "markdown",
   "metadata": {},
   "source": [
    "Formatar Documento: Ctrl + Alt + F\n",
    "\n"
   ]
  },
  {
   "cell_type": "markdown",
   "metadata": {},
   "source": [
    "Passos para criar o app\n",
    "\n",
    "```shell\n",
    "$ python -m django --version\n",
    "\n",
    "$ django-admin startproject basic\n",
    "\n",
    "$ python manage.py runserver 0.0.0.0:8000\n",
    "\n",
    "$ python manage.py startapp dashboard\n",
    "\n",
    "$ python manage.py loaddata sensor_data.json\n",
    "```\n",
    "\n"
   ]
  },
  {
   "cell_type": "markdown",
   "metadata": {},
   "source": [
    "Adicionar View dentro do app *dashboard*"
   ]
  },
  {
   "cell_type": "code",
   "execution_count": 1,
   "metadata": {},
   "outputs": [],
   "source": [
    "from django.http import HttpResponse\n",
    "\n",
    "def index(request):\n",
    "    return HttpResponse(\"Hello, world. You're at the polls index.\")"
   ]
  },
  {
   "cell_type": "markdown",
   "metadata": {},
   "source": [
    "Adicionar url em dashboard"
   ]
  },
  {
   "cell_type": "code",
   "execution_count": null,
   "metadata": {},
   "outputs": [],
   "source": [
    "from django.urls import path\n",
    "\n",
    "from . import views\n",
    "\n",
    "urlpatterns = [\n",
    "    path(\"\", views.index, name=\"index\"),\n",
    "]"
   ]
  },
  {
   "cell_type": "markdown",
   "metadata": {},
   "source": [
    "Adicionar url base apontando para dashboard"
   ]
  },
  {
   "cell_type": "code",
   "execution_count": null,
   "metadata": {},
   "outputs": [],
   "source": [
    "from django.contrib import admin\n",
    "from django.urls import include, path\n",
    "\n",
    "urlpatterns = [\n",
    "    path(\"polls/\", include(\"polls.urls\")),\n",
    "    path(\"admin/\", admin.site.urls),\n",
    "]"
   ]
  },
  {
   "cell_type": "markdown",
   "metadata": {},
   "source": [
    "Adicionar **dashboard** em Installed Apps no Settings.py"
   ]
  },
  {
   "cell_type": "code",
   "execution_count": null,
   "metadata": {},
   "outputs": [],
   "source": [
    "INSTALLED_APPS = [\n",
    "    \"django.contrib.admin\",\n",
    "    \"django.contrib.auth\",\n",
    "    \"django.contrib.contenttypes\",\n",
    "    \"django.contrib.sessions\",\n",
    "    \"django.contrib.messages\",\n",
    "    \"django.contrib.staticfiles\",\n",
    "    \"dashboard.apps.DashboardConfig\",\n",
    "    \"dashboard\",\n",
    "]"
   ]
  },
  {
   "cell_type": "markdown",
   "metadata": {},
   "source": [
    "\"criar\" o banco de dados\n",
    "\n",
    "```shell\n",
    "python manage.py makemigrations\n",
    "\n",
    "python manage.py migrate\n",
    "```"
   ]
  },
  {
   "cell_type": "markdown",
   "metadata": {},
   "source": [
    "Criando usuários\n",
    "\n",
    "```shell\n",
    "python manage.py createsuperuser\n",
    "```"
   ]
  },
  {
   "cell_type": "markdown",
   "metadata": {},
   "source": [
    "Shell e acesso aos modelos e dados do banco:\n",
    "\n",
    "```shell\n",
    "pip install django-extensions\n",
    "\n",
    "```\n",
    "\n",
    "\n",
    "\n",
    "```python\n",
    "INSTALLED_APPS = (\n",
    "    ...\n",
    "    'django_extensions',\n",
    ")\n",
    "\n",
    "from dashboard.models import *\n",
    "```"
   ]
  },
  {
   "cell_type": "markdown",
   "metadata": {},
   "source": [
    "Setup para usar o jupyter notebook como shell para desenvolvimento dos modelos"
   ]
  },
  {
   "cell_type": "code",
   "execution_count": 1,
   "metadata": {},
   "outputs": [],
   "source": [
    "import os\n",
    "import django\n",
    "\n",
    "os.environ.setdefault('DJANGO_SETTINGS_MODULE', 'basic.settings')\n",
    "os.environ[\"DJANGO_ALLOW_ASYNC_UNSAFE\"] = \"true\"\n",
    "django.setup()"
   ]
  },
  {
   "cell_type": "code",
   "execution_count": 2,
   "metadata": {},
   "outputs": [],
   "source": [
    "from dashboard.models import *"
   ]
  },
  {
   "cell_type": "code",
   "execution_count": 25,
   "metadata": {},
   "outputs": [],
   "source": [
    "d = SensorData.objects.\\\n",
    "    filter(sensor_id=1).\\\n",
    "    order_by('-timestamp').\\\n",
    "    values('timestamp', 'value')"
   ]
  },
  {
   "cell_type": "code",
   "execution_count": 26,
   "metadata": {},
   "outputs": [
    {
     "data": {
      "text/plain": [
       "<QuerySet [{'timestamp': datetime.datetime(2024, 1, 20, 5, 54, 4, tzinfo=datetime.timezone.utc), 'value': 16.081045260711463}, {'timestamp': datetime.datetime(2024, 1, 20, 5, 10, 56, tzinfo=datetime.timezone.utc), 'value': 16.665250495493556}, {'timestamp': datetime.datetime(2024, 1, 19, 20, 24, 2, tzinfo=datetime.timezone.utc), 'value': 69.34287248124735}, {'timestamp': datetime.datetime(2024, 1, 18, 8, 43, 43, tzinfo=datetime.timezone.utc), 'value': 54.0611765364378}, {'timestamp': datetime.datetime(2024, 1, 17, 22, 32, 40, tzinfo=datetime.timezone.utc), 'value': 42.677596852322566}, {'timestamp': datetime.datetime(2024, 1, 17, 12, 31, 6, tzinfo=datetime.timezone.utc), 'value': 65.57915459475282}, {'timestamp': datetime.datetime(2024, 1, 15, 12, 36, 2, tzinfo=datetime.timezone.utc), 'value': 30.02814483821013}, {'timestamp': datetime.datetime(2024, 1, 15, 0, 0, 2, tzinfo=datetime.timezone.utc), 'value': 21.608538958619178}, {'timestamp': datetime.datetime(2024, 1, 14, 12, 56, 16, tzinfo=datetime.timezone.utc), 'value': 63.70154895542827}, {'timestamp': datetime.datetime(2024, 1, 14, 10, 7, 51, tzinfo=datetime.timezone.utc), 'value': 45.194729353309235}, {'timestamp': datetime.datetime(2024, 1, 12, 10, 25, 31, tzinfo=datetime.timezone.utc), 'value': 52.361109253846934}, {'timestamp': datetime.datetime(2024, 1, 11, 15, 43, 26, tzinfo=datetime.timezone.utc), 'value': 59.15252576710545}, {'timestamp': datetime.datetime(2024, 1, 11, 14, 41, 30, tzinfo=datetime.timezone.utc), 'value': 45.24896102141356}, {'timestamp': datetime.datetime(2024, 1, 10, 9, 24, 17, tzinfo=datetime.timezone.utc), 'value': 56.68574614763112}, {'timestamp': datetime.datetime(2024, 1, 6, 0, 24, 47, tzinfo=datetime.timezone.utc), 'value': 32.78777695167263}, {'timestamp': datetime.datetime(2024, 1, 4, 21, 6, 15, tzinfo=datetime.timezone.utc), 'value': 16.57524553733572}, {'timestamp': datetime.datetime(2024, 1, 3, 23, 9, 15, tzinfo=datetime.timezone.utc), 'value': 17.35332654359418}, {'timestamp': datetime.datetime(2024, 1, 3, 17, 23, 58, tzinfo=datetime.timezone.utc), 'value': 35.535273009592935}, {'timestamp': datetime.datetime(2024, 1, 3, 10, 28, 20, tzinfo=datetime.timezone.utc), 'value': 63.11183603943171}, {'timestamp': datetime.datetime(2024, 1, 2, 8, 7, 1, tzinfo=datetime.timezone.utc), 'value': 53.821428946190366}]>"
      ]
     },
     "execution_count": 26,
     "metadata": {},
     "output_type": "execute_result"
    }
   ],
   "source": [
    "d"
   ]
  },
  {
   "cell_type": "code",
   "execution_count": 24,
   "metadata": {},
   "outputs": [
    {
     "name": "stdout",
     "output_type": "stream",
     "text": [
      "2024-01-14 12:56:16+00:00 63.70154895542827\n",
      "2024-01-20 05:10:56+00:00 16.665250495493556\n",
      "2024-01-02 08:07:01+00:00 53.821428946190366\n",
      "2024-01-11 15:43:26+00:00 59.15252576710545\n",
      "2024-01-11 14:41:30+00:00 45.24896102141356\n",
      "2024-01-20 05:54:04+00:00 16.081045260711463\n",
      "2024-01-12 10:25:31+00:00 52.361109253846934\n",
      "2024-01-03 23:09:15+00:00 17.35332654359418\n",
      "2024-01-19 20:24:02+00:00 69.34287248124735\n",
      "2024-01-03 17:23:58+00:00 35.535273009592935\n",
      "2024-01-14 10:07:51+00:00 45.194729353309235\n",
      "2024-01-03 10:28:20+00:00 63.11183603943171\n",
      "2024-01-04 21:06:15+00:00 16.57524553733572\n",
      "2024-01-17 12:31:06+00:00 65.57915459475282\n",
      "2024-01-15 12:36:02+00:00 30.02814483821013\n",
      "2024-01-06 00:24:47+00:00 32.78777695167263\n",
      "2024-01-18 08:43:43+00:00 54.0611765364378\n",
      "2024-01-15 00:00:02+00:00 21.608538958619178\n",
      "2024-01-10 09:24:17+00:00 56.68574614763112\n",
      "2024-01-17 22:32:40+00:00 42.677596852322566\n"
     ]
    }
   ],
   "source": [
    "for i in d:\n",
    "    print(i['timestamp'], i['value'])"
   ]
  },
  {
   "cell_type": "code",
   "execution_count": 8,
   "metadata": {},
   "outputs": [
    {
     "data": {
      "text/plain": [
       "<QuerySet [<SensorInfo: Temperature at Warehouse>, <SensorInfo: Humidity at Office>, <SensorInfo: Pressure at Lab>, <SensorInfo: Light at Factory>, <SensorInfo: Sound at Field>]>"
      ]
     },
     "execution_count": 8,
     "metadata": {},
     "output_type": "execute_result"
    }
   ],
   "source": [
    "SensorInfo.objects.all()"
   ]
  },
  {
   "cell_type": "code",
   "execution_count": 9,
   "metadata": {},
   "outputs": [
    {
     "name": "stdout",
     "output_type": "stream",
     "text": [
      "Temperature at Warehouse\n",
      "Humidity at Office\n",
      "Pressure at Lab\n",
      "Light at Factory\n",
      "Sound at Field\n"
     ]
    }
   ],
   "source": [
    "sensores_info = SensorInfo.objects.all()\n",
    "for sensor_info in sensores_info:\n",
    "    print(sensor_info)"
   ]
  },
  {
   "cell_type": "code",
   "execution_count": 10,
   "metadata": {},
   "outputs": [
    {
     "data": {
      "text/plain": [
       "5"
      ]
     },
     "execution_count": 10,
     "metadata": {},
     "output_type": "execute_result"
    }
   ],
   "source": [
    "sensor_info.id"
   ]
  },
  {
   "cell_type": "markdown",
   "metadata": {},
   "source": [
    "Adicionando dados manualmente"
   ]
  },
  {
   "cell_type": "code",
   "execution_count": 11,
   "metadata": {},
   "outputs": [],
   "source": [
    "s1 = SensorInfo(sensor_type=\"Temperature\",\n",
    "                location=\"Sala 1\",\n",
    "                minimum_value=0,\n",
    "                maximum_value=100,\n",
    "                measure_unit=\"Celsius\", \n",
    "                sensor_name=\"S1\")\n",
    "                            "
   ]
  },
  {
   "cell_type": "code",
   "execution_count": 12,
   "metadata": {},
   "outputs": [],
   "source": [
    "s1.save()"
   ]
  },
  {
   "cell_type": "code",
   "execution_count": 14,
   "metadata": {},
   "outputs": [
    {
     "data": {
      "text/plain": [
       "<QuerySet [<SensorInfo: Temperatura at Piracicaba>]>"
      ]
     },
     "execution_count": 14,
     "metadata": {},
     "output_type": "execute_result"
    }
   ],
   "source": [
    "SensorInfo.objects.filter(location='Piracicaba')"
   ]
  },
  {
   "cell_type": "code",
   "execution_count": 18,
   "metadata": {},
   "outputs": [],
   "source": [
    "s = SensorInfo.objects.filter(sensor_type='Temperatura')"
   ]
  },
  {
   "cell_type": "code",
   "execution_count": 19,
   "metadata": {},
   "outputs": [
    {
     "data": {
      "text/plain": [
       "'Piracicaba'"
      ]
     },
     "execution_count": 19,
     "metadata": {},
     "output_type": "execute_result"
    }
   ],
   "source": [
    "s[0].location"
   ]
  },
  {
   "cell_type": "code",
   "execution_count": 39,
   "metadata": {},
   "outputs": [],
   "source": [
    "r = SensorData.objects.raw('select id, value from dashboard_sensordata WHERE sensor_id = 1')"
   ]
  },
  {
   "cell_type": "code",
   "execution_count": 40,
   "metadata": {},
   "outputs": [
    {
     "name": "stdout",
     "output_type": "stream",
     "text": [
      "Temperatura at Piracicaba | Leitura em: 2024-01-06 15:58:31.062822+00:00\n"
     ]
    }
   ],
   "source": [
    "for i in r:\n",
    "    print(i)"
   ]
  },
  {
   "cell_type": "code",
   "execution_count": 25,
   "metadata": {},
   "outputs": [
    {
     "data": {
      "text/plain": [
       "<QuerySet [(34.0,)]>"
      ]
     },
     "execution_count": 25,
     "metadata": {},
     "output_type": "execute_result"
    }
   ],
   "source": [
    "SensorData.objects.filter(sensor_id=1).values_list('value')"
   ]
  }
 ],
 "metadata": {
  "kernelspec": {
   "display_name": "django",
   "language": "python",
   "name": "python3"
  },
  "language_info": {
   "codemirror_mode": {
    "name": "ipython",
    "version": 3
   },
   "file_extension": ".py",
   "mimetype": "text/x-python",
   "name": "python",
   "nbconvert_exporter": "python",
   "pygments_lexer": "ipython3",
   "version": "3.12.0"
  }
 },
 "nbformat": 4,
 "nbformat_minor": 2
}
